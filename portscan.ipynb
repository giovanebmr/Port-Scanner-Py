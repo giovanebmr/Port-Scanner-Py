{
  "nbformat": 4,
  "nbformat_minor": 0,
  "metadata": {
    "colab": {
      "name": "portscan.ipynb",
      "provenance": [],
      "collapsed_sections": []
    },
    "kernelspec": {
      "name": "python3",
      "display_name": "Python 3"
    }
  },
  "cells": [
    {
      "cell_type": "code",
      "metadata": {
        "id": "d6F6xXQnKzQ_"
      },
      "source": [
        "import socket"
      ],
      "execution_count": 2,
      "outputs": []
    },
    {
      "cell_type": "code",
      "metadata": {
        "colab": {
          "base_uri": "https://localhost:8080/"
        },
        "id": "jWgLn33iKq1X",
        "outputId": "98c93673-c0b8-4eb0-da3a-da98e19fe9e6"
      },
      "source": [
        "ip = input('Digite o host ou ip a ser verificado: ')\r\n",
        "\r\n",
        "ports = []\r\n",
        "count = 0\r\n",
        "\r\n",
        "while count < 5:\r\n",
        "    ports.append(int(input('Digite a porta a ser verificada: ')))\r\n",
        "    count += 1\r\n",
        "\r\n",
        "for port in ports:\r\n",
        "    client = socket.socket(socket.AF_INET, socket.SOCK_STREAM)\r\n",
        "    client.settimeout(0.05)  # tempo da requisição antes de retornar\r\n",
        "    code = client.connect_ex((ip, port))\r\n",
        "\r\n",
        "    if code == 0:\r\n",
        "        print(str(port), ' -> Porta aberta')\r\n",
        "    else:\r\n",
        "        print(str(port), ' -> Porta fechada')\r\n",
        "\r\n",
        "print('Scan finalizado')"
      ],
      "execution_count": 7,
      "outputs": [
        {
          "output_type": "stream",
          "text": [
            "Digite o host ou ip a ser verificado: www.google.com\n",
            "Digite a porta a ser verificada: 80\n",
            "Digite a porta a ser verificada: 8080\n",
            "Digite a porta a ser verificada: 21\n",
            "Digite a porta a ser verificada: 10\n",
            "Digite a porta a ser verificada: 500\n",
            "80  -> Porta aberta\n",
            "8080  -> Porta fechada\n",
            "21  -> Porta fechada\n",
            "10  -> Porta fechada\n",
            "500  -> Porta fechada\n",
            "Scan finalizado\n"
          ],
          "name": "stdout"
        }
      ]
    }
  ]
}