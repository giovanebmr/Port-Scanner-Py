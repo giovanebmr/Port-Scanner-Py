{
  "nbformat": 4,
  "nbformat_minor": 0,
  "metadata": {
    "colab": {
      "name": "portscan2.ipynb",
      "provenance": [],
      "collapsed_sections": []
    },
    "kernelspec": {
      "name": "python3",
      "display_name": "Python 3"
    }
  },
  "cells": [
    {
      "cell_type": "code",
      "metadata": {
        "id": "YJRng4gHQ2SQ"
      },
      "source": [
        "import socket"
      ],
      "execution_count": 2,
      "outputs": []
    },
    {
      "cell_type": "code",
      "metadata": {
        "colab": {
          "base_uri": "https://localhost:8080/"
        },
        "id": "ojNDqRLiQznG",
        "outputId": "35cea320-af1a-4b8c-b28d-1df6da88f7b4"
      },
      "source": [
        "ip = input('Digite o host ou ip a ser verificado: ')\r\n",
        "\r\n",
        "ports = []\r\n",
        "count = 0\r\n",
        "abertas = []\r\n",
        "\r\n",
        "while count <= 100:\r\n",
        "    ports.append( int( count ) )\r\n",
        "    count += 1\r\n",
        "\r\n",
        "for port in ports:\r\n",
        "    client = socket.socket(socket.AF_INET, socket.SOCK_STREAM)\r\n",
        "    client.settimeout(0.05)  # tempo da requisição antes de retornar\r\n",
        "    code = client.connect_ex((ip, port))\r\n",
        "\r\n",
        "    if code == 0:\r\n",
        "        print(str(port), ' -> Porta aberta')\r\n",
        "        abertas.append( str(port) )\r\n",
        "    #else:\r\n",
        "        #print(str(port), ' -> Porta fechada')\r\n",
        "\r\n",
        "print('\\n________________Scan finalizado_______________________________________________________________' )\r\n",
        "print('\\n________________________________________Portas abertas________________________________________' )\r\n",
        "for port in abertas:\r\n",
        "  print(abertas)\r\n",
        "  "
      ],
      "execution_count": 15,
      "outputs": [
        {
          "output_type": "stream",
          "text": [
            "Digite o host ou ip a ser verificado: www.google.com\n",
            "80  -> Porta aberta\n",
            "\n",
            "________________Scan finalizado_______________________________________________________________\n",
            "\n",
            "________________________________________Portas abertas________________________________________\n",
            "['80']\n"
          ],
          "name": "stdout"
        }
      ]
    }
  ]
}